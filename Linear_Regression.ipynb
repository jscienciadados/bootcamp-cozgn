{
  "nbformat": 4,
  "nbformat_minor": 0,
  "metadata": {
    "colab": {
      "name": "Linear-Regression.ipynb",
      "provenance": [],
      "collapsed_sections": []
    },
    "kernelspec": {
      "name": "python3",
      "display_name": "Python 3"
    },
    "language_info": {
      "name": "python"
    }
  },
  "cells": [
    {
      "cell_type": "markdown",
      "metadata": {
        "id": "R-NiodpYysIP"
      },
      "source": [
        "# Linear Regression"
      ]
    },
    {
      "cell_type": "code",
      "metadata": {
        "id": "-t_ftA1ayYYs"
      },
      "source": [
        "from scipy import stats\n",
        "import numpy as np\n",
        "from matplotlib import pyplot as plt\n",
        "import pandas as pd\n"
      ],
      "execution_count": null,
      "outputs": []
    },
    {
      "cell_type": "code",
      "metadata": {
        "id": "FHMLBj2nzFJy"
      },
      "source": [
        "# Preços de casas\n",
        "x = np.array([113, 347, 199, 371, 549, 301, 419, 579])"
      ],
      "execution_count": null,
      "outputs": []
    },
    {
      "cell_type": "code",
      "metadata": {
        "id": "c4x4cwUgzRLL"
      },
      "source": [
        "# Tamanho de Casas\n",
        "y = np.array([1119, 1524, 2101, 2232, 2599, 3201, 3687, 4459])\n"
      ],
      "execution_count": null,
      "outputs": []
    },
    {
      "cell_type": "code",
      "metadata": {
        "id": "zZkJDOL3zYq0"
      },
      "source": [
        "slope, intercept, r_value, p_value, std_err = stats.linregress(x, y)"
      ],
      "execution_count": null,
      "outputs": []
    },
    {
      "cell_type": "code",
      "metadata": {
        "colab": {
          "base_uri": "https://localhost:8080/",
          "height": 279
        },
        "id": "DSFrnQlvzjJa",
        "outputId": "43c43220-e3ec-45bd-d4cb-0601be4715cd"
      },
      "source": [
        "# Verificando a relação das variaveis\n",
        "plt.plot(x, y, 'ro', color = 'red')\n",
        "plt.ylabel('Tamanho m²')\n",
        "plt.xlabel('Valor em $')\n",
        "plt.show()"
      ],
      "execution_count": null,
      "outputs": [
        {
          "output_type": "display_data",
          "data": {
            "image/png": "[encoded data removed]",
            "text/plain": [
              "<Figure size 432x288 with 1 Axes>"
            ]
          },
          "metadata": {
            "tags": [],
            "needs_background": "light"
          }
        }
      ]
    },
    {
      "cell_type": "code",
      "metadata": {
        "colab": {
          "base_uri": "https://localhost:8080/",
          "height": 295
        },
        "id": "N2OmTv-m0Aiw",
        "outputId": "2d0882a8-650f-43ba-9ea2-7d080a73b208"
      },
      "source": [
        "# Gerando uma linha de Regressao\n",
        "plt.scatter(x, y, color = 'red')\n",
        "plt.plot(x, x * slope + intercept, 'b')\n",
        "plt.ylabel('Tamanho m²')\n",
        "plt.xlabel('Preço $')\n",
        "plt.title('Tamanho da casa (m²) x Valores ($)')\n",
        "plt.show()"
      ],
      "execution_count": null,
      "outputs": [
        {
          "output_type": "display_data",
          "data": {
            "image/png": "[encoded data removed]",
            "text/plain": [
              "<Figure size 432x288 with 1 Axes>"
            ]
          },
          "metadata": {
            "tags": [],
            "needs_background": "light"
          }
        }
      ]
    },
    {
      "cell_type": "markdown",
      "metadata": {
        "id": "Mq_tD3rpyyMq"
      },
      "source": [
        "# Resolvendo o problema de peso do cerebro."
      ]
    },
    {
      "cell_type": "markdown",
      "metadata": {
        "id": "l-Ur-sI21mHt"
      },
      "source": [
        "O dataset contém dados sobre medidas da cabeça de seres humanos e o peso do cérebro.\n",
        "\n",
        "Desenvolver um modelo de regressao linear simples para prever o peso de um determiando cerebro."
      ]
    },
    {
      "cell_type": "code",
      "metadata": {
        "id": "4ceoBJHI2YTG",
        "colab": {
          "base_uri": "https://localhost:8080/",
          "height": 204
        },
        "outputId": "04c96f5d-34f1-4f33-8f87-9ab80436a6ab"
      },
      "source": [
        "data = pd.read_csv('pesos2.csv')\n",
        "data.head()"
      ],
      "execution_count": null,
      "outputs": [
        {
          "output_type": "execute_result",
          "data": {
            "text/html": [
              "<div>\n",
              "<style scoped>\n",
              "    .dataframe tbody tr th:only-of-type {\n",
              "        vertical-align: middle;\n",
              "    }\n",
              "\n",
              "    .dataframe tbody tr th {\n",
              "        vertical-align: top;\n",
              "    }\n",
              "\n",
              "    .dataframe thead th {\n",
              "        text-align: right;\n",
              "    }\n",
              "</style>\n",
              "<table border=\"1\" class=\"dataframe\">\n",
              "  <thead>\n",
              "    <tr style=\"text-align: right;\">\n",
              "      <th></th>\n",
              "      <th>Sexo</th>\n",
              "      <th>Grupo</th>\n",
              "      <th>Head Size</th>\n",
              "      <th>Brain Weight</th>\n",
              "    </tr>\n",
              "  </thead>\n",
              "  <tbody>\n",
              "    <tr>\n",
              "      <th>0</th>\n",
              "      <td>1</td>\n",
              "      <td>1</td>\n",
              "      <td>4512</td>\n",
              "      <td>1530</td>\n",
              "    </tr>\n",
              "    <tr>\n",
              "      <th>1</th>\n",
              "      <td>1</td>\n",
              "      <td>1</td>\n",
              "      <td>3738</td>\n",
              "      <td>1297</td>\n",
              "    </tr>\n",
              "    <tr>\n",
              "      <th>2</th>\n",
              "      <td>1</td>\n",
              "      <td>1</td>\n",
              "      <td>4261</td>\n",
              "      <td>1335</td>\n",
              "    </tr>\n",
              "    <tr>\n",
              "      <th>3</th>\n",
              "      <td>1</td>\n",
              "      <td>1</td>\n",
              "      <td>3777</td>\n",
              "      <td>1282</td>\n",
              "    </tr>\n",
              "    <tr>\n",
              "      <th>4</th>\n",
              "      <td>1</td>\n",
              "      <td>1</td>\n",
              "      <td>4177</td>\n",
              "      <td>1590</td>\n",
              "    </tr>\n",
              "  </tbody>\n",
              "</table>\n",
              "</div>"
            ],
            "text/plain": [
              "   Sexo  Grupo  Head Size  Brain Weight\n",
              "0     1      1       4512          1530\n",
              "1     1      1       3738          1297\n",
              "2     1      1       4261          1335\n",
              "3     1      1       3777          1282\n",
              "4     1      1       4177          1590"
            ]
          },
          "metadata": {
            "tags": []
          },
          "execution_count": 4
        }
      ]
    },
    {
      "cell_type": "code",
      "metadata": {
        "id": "tAomKFCUyrcP"
      },
      "source": [
        "# Definição das variaveis\n",
        "X = data['Head Size'].values\n",
        "Y = data['Brain Weight'].values"
      ],
      "execution_count": null,
      "outputs": []
    },
    {
      "cell_type": "code",
      "metadata": {
        "colab": {
          "base_uri": "https://localhost:8080/"
        },
        "id": "TTEyBIRtzJhJ",
        "outputId": "45fd61b7-d440-446d-b264-24f98f678aa7"
      },
      "source": [
        "# Calculando os coeficientes\n",
        "mean_x = np.mean(X)\n",
        "mean_y = np.mean(Y)\n",
        "\n",
        "# Numero total de valores\n",
        "n = len(X)\n",
        "\n",
        "# Usando a formula para calcular a e b\n",
        "number = 0\n",
        "denom = 0\n",
        "\n",
        "for i in range(n):\n",
        "  number += (X[i] - mean_x) * (Y[i] - mean_y)\n",
        "  denom += (X[i] - mean_x) ** 2\n",
        "\n",
        "b = number / denom\n",
        "a = mean_y - (b * mean_x)\n",
        "\n",
        "# Imprime os coeficientes\n",
        "print(a, b)"
      ],
      "execution_count": null,
      "outputs": [
        {
          "output_type": "stream",
          "text": [
            "325.57342104944223 0.26342933948939945\n"
          ],
          "name": "stdout"
        }
      ]
    },
    {
      "cell_type": "code",
      "metadata": {
        "colab": {
          "base_uri": "https://localhost:8080/"
        },
        "id": "ul19Ym7o0kDb",
        "outputId": "e40369cc-cbc8-46b2-d48c-ec34f1b6c030"
      },
      "source": [
        "# Fazendo as previsoes -> com um cerebro pesando 4450g\n",
        "# y = a+bx\n",
        "\n",
        "y = 325.57 + (0.26 * 4450)\n",
        "print(f'O peso do cerebro é: {y} gr')"
      ],
      "execution_count": null,
      "outputs": [
        {
          "output_type": "stream",
          "text": [
            "O peso do cerebro é: 1482.57 gr\n"
          ],
          "name": "stdout"
        }
      ]
    },
    {
      "cell_type": "markdown",
      "metadata": {
        "id": "FfdNsRFH30hd"
      },
      "source": [
        "# Estudo de Caso"
      ]
    },
    {
      "cell_type": "markdown",
      "metadata": {
        "id": "GS9g9RdQ347M"
      },
      "source": [
        "# Definindo o problema de negócio:\n",
        "\n",
        "Construir um modelo de Machine Learning que seja capaz de fazer previsões sobre a taxa me´dia de casas na região de Boston EUA, por proprietarios. A variavel a ser prevista e um valor numerico que represenata a mediana da taxa de ocupação das casas. Para cada casa temos diversas variaveis explanatorias, sendo assim, podemos resolver este problema empregando regressao linear ou regressao multipla."
      ]
    },
    {
      "cell_type": "markdown",
      "metadata": {
        "id": "RV7LUo3R4xfw"
      },
      "source": [
        "## Definindo o Dataset\n",
        "\n",
        "Usaremos o Boston Housing Dataset, que é um conjunto de dados que tem a taxa média de ocupação das casas, juntamente com outras 13 variáveis que podem estar relacionadas aos preços das casas. Esses são os fatores como condições socioeconômicas, condições ambientais, instalações educacionais e alguns outros fatores semelhantes. Existem 506 observações nos dados para 14 variáveis. Existem 12 variáveis numéricas em nosso conjunto de dados e 1 variável categórica. O objetivo deste projeto é construir um modelo de regressão linear para estimar a taxa média de ocupação das casas pelos proprietários em Boston.\n"
      ]
    },
    {
      "cell_type": "markdown",
      "metadata": {
        "id": "ppmTFJ0I5LgR"
      },
      "source": [
        "# Dicionário de Dados:\n",
        "Dataset: https://archive.ics.uci.edu/ml/machine-learning-databases/housing/\n",
        "\n",
        "1 - CRIM: per capita crime rate by town\n",
        "\n",
        "2 - ZN: proportion of residential land zoned for lots over 25,000 sq.ft.\n",
        "\n",
        "3 - INDUS: proportion of non-retail business acres per town\n",
        "\n",
        "4 - CHAS: Charles River dummy variable (= 1 if tract bounds river; 0 otherwise)\n",
        "\n",
        "5 - NOX: nitric oxides concentration (parts per 10 million)\n",
        "\n",
        "6 - RM: average number of rooms per dwelling\n",
        "\n",
        "7 - AGE: proportion of owner-occupied units built prior to 1940\n",
        "\n",
        "8 - DIS: weighted distances to five Boston employment centres\n",
        "\n",
        "9 - RAD: index of accessibility to radial highways\n",
        "\n",
        "10 -TAX: full-value property-tax rate per 10,000\n",
        "\n",
        "11 -PTRATIO: pupil-teacher ratio by town\n",
        "\n",
        "12 -B: 1000(Bk - 0.63)^2 where Bk is the proportion of blacks by town\n",
        "\n",
        "13 -LSTAT: % lower status of the population\n",
        "\n",
        "TARGET: Median value of owner-occupied homes in $1000's -> variavel a ser \n",
        "prevista."
      ]
    },
    {
      "cell_type": "code",
      "metadata": {
        "id": "P1lhoWiy1NyR"
      },
      "source": [
        "# Carregando o dataset Boston Houses\n",
        "from sklearn.datasets import load_boston\n",
        "boston = load_boston()"
      ],
      "execution_count": null,
      "outputs": []
    },
    {
      "cell_type": "code",
      "metadata": {
        "id": "PiPdF4Wq6V1R"
      },
      "source": [
        "# Imports\n",
        "import numpy as np\n",
        "import pandas as pd\n",
        "import matplotlib.pyplot as plt\n",
        "import warnings\n",
        "warnings.filterwarnings('ignore')"
      ],
      "execution_count": null,
      "outputs": []
    },
    {
      "cell_type": "markdown",
      "metadata": {
        "id": "TBm8nBrC6uXE"
      },
      "source": [
        "# Análise Exploratória"
      ]
    },
    {
      "cell_type": "code",
      "metadata": {
        "id": "oLq6StBM6tEb"
      },
      "source": [
        "# Dataframe\n",
        "df = pd.DataFrame(boston.data, columns=boston.feature_names)\n",
        "df['target'] = boston.target"
      ],
      "execution_count": null,
      "outputs": []
    },
    {
      "cell_type": "code",
      "metadata": {
        "colab": {
          "base_uri": "https://localhost:8080/",
          "height": 204
        },
        "id": "e6ikb_E27XgE",
        "outputId": "7c68db79-6760-4b8b-9735-c2e130c561a8"
      },
      "source": [
        "df.head()"
      ],
      "execution_count": null,
      "outputs": [
        {
          "output_type": "execute_result",
          "data": {
            "text/html": [
              "<div>\n",
              "<style scoped>\n",
              "    .dataframe tbody tr th:only-of-type {\n",
              "        vertical-align: middle;\n",
              "    }\n",
              "\n",
              "    .dataframe tbody tr th {\n",
              "        vertical-align: top;\n",
              "    }\n",
              "\n",
              "    .dataframe thead th {\n",
              "        text-align: right;\n",
              "    }\n",
              "</style>\n",
              "<table border=\"1\" class=\"dataframe\">\n",
              "  <thead>\n",
              "    <tr style=\"text-align: right;\">\n",
              "      <th></th>\n",
              "      <th>CRIM</th>\n",
              "      <th>ZN</th>\n",
              "      <th>INDUS</th>\n",
              "      <th>CHAS</th>\n",
              "      <th>NOX</th>\n",
              "      <th>RM</th>\n",
              "      <th>AGE</th>\n",
              "      <th>DIS</th>\n",
              "      <th>RAD</th>\n",
              "      <th>TAX</th>\n",
              "      <th>PTRATIO</th>\n",
              "      <th>B</th>\n",
              "      <th>LSTAT</th>\n",
              "      <th>target</th>\n",
              "    </tr>\n",
              "  </thead>\n",
              "  <tbody>\n",
              "    <tr>\n",
              "      <th>0</th>\n",
              "      <td>0.00632</td>\n",
              "      <td>18.0</td>\n",
              "      <td>2.31</td>\n",
              "      <td>0.0</td>\n",
              "      <td>0.538</td>\n",
              "      <td>6.575</td>\n",
              "      <td>65.2</td>\n",
              "      <td>4.0900</td>\n",
              "      <td>1.0</td>\n",
              "      <td>296.0</td>\n",
              "      <td>15.3</td>\n",
              "      <td>396.90</td>\n",
              "      <td>4.98</td>\n",
              "      <td>24.0</td>\n",
              "    </tr>\n",
              "    <tr>\n",
              "      <th>1</th>\n",
              "      <td>0.02731</td>\n",
              "      <td>0.0</td>\n",
              "      <td>7.07</td>\n",
              "      <td>0.0</td>\n",
              "      <td>0.469</td>\n",
              "      <td>6.421</td>\n",
              "      <td>78.9</td>\n",
              "      <td>4.9671</td>\n",
              "      <td>2.0</td>\n",
              "      <td>242.0</td>\n",
              "      <td>17.8</td>\n",
              "      <td>396.90</td>\n",
              "      <td>9.14</td>\n",
              "      <td>21.6</td>\n",
              "    </tr>\n",
              "    <tr>\n",
              "      <th>2</th>\n",
              "      <td>0.02729</td>\n",
              "      <td>0.0</td>\n",
              "      <td>7.07</td>\n",
              "      <td>0.0</td>\n",
              "      <td>0.469</td>\n",
              "      <td>7.185</td>\n",
              "      <td>61.1</td>\n",
              "      <td>4.9671</td>\n",
              "      <td>2.0</td>\n",
              "      <td>242.0</td>\n",
              "      <td>17.8</td>\n",
              "      <td>392.83</td>\n",
              "      <td>4.03</td>\n",
              "      <td>34.7</td>\n",
              "    </tr>\n",
              "    <tr>\n",
              "      <th>3</th>\n",
              "      <td>0.03237</td>\n",
              "      <td>0.0</td>\n",
              "      <td>2.18</td>\n",
              "      <td>0.0</td>\n",
              "      <td>0.458</td>\n",
              "      <td>6.998</td>\n",
              "      <td>45.8</td>\n",
              "      <td>6.0622</td>\n",
              "      <td>3.0</td>\n",
              "      <td>222.0</td>\n",
              "      <td>18.7</td>\n",
              "      <td>394.63</td>\n",
              "      <td>2.94</td>\n",
              "      <td>33.4</td>\n",
              "    </tr>\n",
              "    <tr>\n",
              "      <th>4</th>\n",
              "      <td>0.06905</td>\n",
              "      <td>0.0</td>\n",
              "      <td>2.18</td>\n",
              "      <td>0.0</td>\n",
              "      <td>0.458</td>\n",
              "      <td>7.147</td>\n",
              "      <td>54.2</td>\n",
              "      <td>6.0622</td>\n",
              "      <td>3.0</td>\n",
              "      <td>222.0</td>\n",
              "      <td>18.7</td>\n",
              "      <td>396.90</td>\n",
              "      <td>5.33</td>\n",
              "      <td>36.2</td>\n",
              "    </tr>\n",
              "  </tbody>\n",
              "</table>\n",
              "</div>"
            ],
            "text/plain": [
              "      CRIM    ZN  INDUS  CHAS    NOX  ...    TAX  PTRATIO       B  LSTAT  target\n",
              "0  0.00632  18.0   2.31   0.0  0.538  ...  296.0     15.3  396.90   4.98    24.0\n",
              "1  0.02731   0.0   7.07   0.0  0.469  ...  242.0     17.8  396.90   9.14    21.6\n",
              "2  0.02729   0.0   7.07   0.0  0.469  ...  242.0     17.8  392.83   4.03    34.7\n",
              "3  0.03237   0.0   2.18   0.0  0.458  ...  222.0     18.7  394.63   2.94    33.4\n",
              "4  0.06905   0.0   2.18   0.0  0.458  ...  222.0     18.7  396.90   5.33    36.2\n",
              "\n",
              "[5 rows x 14 columns]"
            ]
          },
          "metadata": {
            "tags": []
          },
          "execution_count": 16
        }
      ]
    },
    {
      "cell_type": "code",
      "metadata": {
        "colab": {
          "base_uri": "https://localhost:8080/"
        },
        "id": "bOxGEAZ07jk3",
        "outputId": "632a327e-c98c-4797-8973-1865bc0a0eb2"
      },
      "source": [
        "# Calculando a media da variavel resposta\n",
        "val_medio_esperado_na_resposta = df['target'].mean()\n",
        "print(val_medio_esperado_na_resposta)"
      ],
      "execution_count": null,
      "outputs": [
        {
          "output_type": "stream",
          "text": [
            "22.532806324110698\n"
          ],
          "name": "stdout"
        }
      ]
    },
    {
      "cell_type": "code",
      "metadata": {
        "colab": {
          "base_uri": "https://localhost:8080/"
        },
        "id": "mBYIRASw78TT",
        "outputId": "b35b943b-eb92-4121-b27b-cd64ddd07c6b"
      },
      "source": [
        "# Calculando (simulando) o SSE\n",
        "# O SSE é a diferença ao quadrado entre o valor previsto e o valor observado.\n",
        "# Considerando que o valor previsto seja igual a média, podemos considerar que\n",
        "# y = média da variável target (valores observados).\n",
        "\n",
        "# Estamos apenas simulando o SSE, uma vez que a regressão ainda não foi criada e os valores previstos\n",
        "# ainda não foram calculados.\n",
        "\n",
        "squared_errors = pd.Series(val_medio_esperado_na_resposta - df['target'])**2\n",
        "SSE = np.sum(squared_errors)\n",
        "print ('Soma dos Quadrados dos Erros (SSE): %01.f' % SSE)"
      ],
      "execution_count": null,
      "outputs": [
        {
          "output_type": "stream",
          "text": [
            "Soma dos Quadrados dos Erros (SSE): 42716\n"
          ],
          "name": "stdout"
        }
      ]
    },
    {
      "cell_type": "code",
      "metadata": {
        "colab": {
          "base_uri": "https://localhost:8080/",
          "height": 265
        },
        "id": "nWKwDPMb8fTl",
        "outputId": "cf105d91-ac47-4f35-b3f3-26cdffdd982f"
      },
      "source": [
        "# Histograma dos erros\n",
        "# Temos mais erros \"pequenos\", ou seja, mais valores proximo a media.\n",
        "plt.hist(squared_errors)\n",
        "plt.show()"
      ],
      "execution_count": null,
      "outputs": [
        {
          "output_type": "display_data",
          "data": {
            "image/png": "[encoded data removed]",
            "text/plain": [
              "<Figure size 432x288 with 1 Axes>"
            ]
          },
          "metadata": {
            "tags": [],
            "needs_background": "light"
          }
        }
      ]
    },
    {
      "cell_type": "markdown",
      "metadata": {
        "id": "Ax8iEwj29jfA"
      },
      "source": [
        "Para cálculo da regeressão linear simples usamos como variavel preditora a variavel RM -> que representa o numero medio de quarto nas casas."
      ]
    },
    {
      "cell_type": "code",
      "metadata": {
        "id": "tk4JQwVe9Fel"
      },
      "source": [
        "# Função para calcular o desvio padrão\n",
        "def calc_desvio_padrao(variable, bias = 0):\n",
        "    observations = float(len(variable))\n",
        "    return np.sqrt(np.sum((variable - np.mean(variable))**2) / (observations - min(bias, 1)))"
      ],
      "execution_count": null,
      "outputs": []
    },
    {
      "cell_type": "code",
      "metadata": {
        "colab": {
          "base_uri": "https://localhost:8080/"
        },
        "id": "a_FKC-OD-Mkp",
        "outputId": "63c62bcb-8dc5-4313-ebba-769bb085dc93"
      },
      "source": [
        "# Imprimindo o desvio padrão via fórmula e via NumPy da variável RM\n",
        "print ('Resultado da Função: %0.5f Resultado do Numpy: %0.5f' % (calc_desvio_padrao(df['RM']), np.std(df['RM'])))\n"
      ],
      "execution_count": null,
      "outputs": [
        {
          "output_type": "stream",
          "text": [
            "Resultado da Função: 0.70192 Resultado do Numpy: 0.70192\n"
          ],
          "name": "stdout"
        }
      ]
    },
    {
      "cell_type": "code",
      "metadata": {
        "id": "1hNL8aS2-gCT"
      },
      "source": [
        "# Funções para calcular a variância da variável RM e a correlação com a variável target\n",
        "def covariance(variable_1, variable_2, bias = 0):\n",
        "    observations = float(len(variable_1))\n",
        "    return np.sum((variable_1 - np.mean(variable_1)) * (variable_2 - np.mean(variable_2))) / (observations - min(bias,1))\n",
        "\n",
        "def standardize(variable):\n",
        "    return (variable - np.mean(variable)) / np.std(variable)\n",
        "\n",
        "def correlation(var1, var2, bias = 0):\n",
        "    return covariance(standardize(var1), standardize(var2), bias)\n"
      ],
      "execution_count": null,
      "outputs": []
    },
    {
      "cell_type": "code",
      "metadata": {
        "colab": {
          "base_uri": "https://localhost:8080/"
        },
        "id": "6USidO1T-7BS",
        "outputId": "95907c38-7096-41de-c0f9-03c2b567b90b"
      },
      "source": [
        "# Compara o resultado das nossas funções com a função pearsonr do SciPy\n",
        "from scipy.stats.stats import pearsonr\n",
        "print ('Nossa estimativa de Correlação: %0.5f' % (correlation(df['RM'], df['target'])))\n",
        "print ('Correlação a partir da função pearsonr do SciPy: %0.5f' % pearsonr(df['RM'], df['target'])[0])"
      ],
      "execution_count": null,
      "outputs": [
        {
          "output_type": "stream",
          "text": [
            "Nossa estimativa de Correlação: 0.69536\n",
            "Correlação a partir da função pearsonr do SciPy: 0.69536\n"
          ],
          "name": "stdout"
        }
      ]
    },
    {
      "cell_type": "code",
      "metadata": {
        "id": "5VU8Nln9_VMv"
      },
      "source": [
        "# Definindo o range dos valores de x e y\n",
        "x_range = [df['RM'].min(), df['RM'].max()]\n",
        "y_range = [df['target'].min(), df['target'].max()]"
      ],
      "execution_count": null,
      "outputs": []
    },
    {
      "cell_type": "code",
      "metadata": {
        "colab": {
          "base_uri": "https://localhost:8080/",
          "height": 283
        },
        "id": "gW-oz1AT_8Q7",
        "outputId": "886d1774-c630-45ec-d4e0-7d327da716e5"
      },
      "source": [
        "# Plot dos valores de x e y com a média\n",
        "scatter_plot = df.plot(kind = 'scatter', x = 'RM', y = 'target', xlim = x_range, ylim = y_range)\n",
        "\n",
        "# Cálculo da média\n",
        "meanY = scatter_plot.plot(x_range, [df['target'].mean(),df['target'].mean()], '--', color = 'red', linewidth = 1)\n",
        "meanX = scatter_plot.plot([df['RM'].mean(), df['RM'].mean()], y_range, '--', color = 'red', linewidth = 1)\n"
      ],
      "execution_count": null,
      "outputs": [
        {
          "output_type": "display_data",
          "data": {
            "image/png": "[encoded data removed]",
            "text/plain": [
              "<Figure size 432x288 with 1 Axes>"
            ]
          },
          "metadata": {
            "tags": [],
            "needs_background": "light"
          }
        }
      ]
    },
    {
      "cell_type": "markdown",
      "metadata": {
        "id": "oRD0F8kVA2iR"
      },
      "source": [
        "# Regressão Linear com o StastModels"
      ]
    },
    {
      "cell_type": "code",
      "metadata": {
        "id": "260vFxbqAYjm"
      },
      "source": [
        "import statsmodels.api as sm "
      ],
      "execution_count": null,
      "outputs": []
    },
    {
      "cell_type": "code",
      "metadata": {
        "id": "Q0IH8FzgBDk9"
      },
      "source": [
        "# Gerando x e y. Adicionamos uma constante ao valor de x, gerando uma matriz\n",
        "y = df['target']\n",
        "x = df['RM']\n"
      ],
      "execution_count": null,
      "outputs": []
    },
    {
      "cell_type": "code",
      "metadata": {
        "id": "ETXXD3rjBSuH"
      },
      "source": [
        "# Esse comando adiciona os valores dos coeficientes a varivel x (o bias sera calculado internamente pela função).\n",
        "x = sm.add_constant(x)"
      ],
      "execution_count": null,
      "outputs": []
    },
    {
      "cell_type": "code",
      "metadata": {
        "colab": {
          "base_uri": "https://localhost:8080/",
          "height": 204
        },
        "id": "fqhV2o9nBW1O",
        "outputId": "cd225ef2-efae-4a13-f4d7-f7ec9a0412e7"
      },
      "source": [
        "x.head()"
      ],
      "execution_count": null,
      "outputs": [
        {
          "output_type": "execute_result",
          "data": {
            "text/html": [
              "<div>\n",
              "<style scoped>\n",
              "    .dataframe tbody tr th:only-of-type {\n",
              "        vertical-align: middle;\n",
              "    }\n",
              "\n",
              "    .dataframe tbody tr th {\n",
              "        vertical-align: top;\n",
              "    }\n",
              "\n",
              "    .dataframe thead th {\n",
              "        text-align: right;\n",
              "    }\n",
              "</style>\n",
              "<table border=\"1\" class=\"dataframe\">\n",
              "  <thead>\n",
              "    <tr style=\"text-align: right;\">\n",
              "      <th></th>\n",
              "      <th>const</th>\n",
              "      <th>RM</th>\n",
              "    </tr>\n",
              "  </thead>\n",
              "  <tbody>\n",
              "    <tr>\n",
              "      <th>0</th>\n",
              "      <td>1.0</td>\n",
              "      <td>6.575</td>\n",
              "    </tr>\n",
              "    <tr>\n",
              "      <th>1</th>\n",
              "      <td>1.0</td>\n",
              "      <td>6.421</td>\n",
              "    </tr>\n",
              "    <tr>\n",
              "      <th>2</th>\n",
              "      <td>1.0</td>\n",
              "      <td>7.185</td>\n",
              "    </tr>\n",
              "    <tr>\n",
              "      <th>3</th>\n",
              "      <td>1.0</td>\n",
              "      <td>6.998</td>\n",
              "    </tr>\n",
              "    <tr>\n",
              "      <th>4</th>\n",
              "      <td>1.0</td>\n",
              "      <td>7.147</td>\n",
              "    </tr>\n",
              "  </tbody>\n",
              "</table>\n",
              "</div>"
            ],
            "text/plain": [
              "   const     RM\n",
              "0    1.0  6.575\n",
              "1    1.0  6.421\n",
              "2    1.0  7.185\n",
              "3    1.0  6.998\n",
              "4    1.0  7.147"
            ]
          },
          "metadata": {
            "tags": []
          },
          "execution_count": 33
        }
      ]
    },
    {
      "cell_type": "code",
      "metadata": {
        "id": "tW0kzvxqB3xs"
      },
      "source": [
        "# Criando o modelo de Regressão\n",
        "modelo = sm.OLS(y, x)\n",
        "\n",
        "# Treinando o modelo\n",
        "modelo_v1 = modelo.fit()"
      ],
      "execution_count": null,
      "outputs": []
    },
    {
      "cell_type": "code",
      "metadata": {
        "colab": {
          "base_uri": "https://localhost:8080/"
        },
        "id": "62b0sM6ACM94",
        "outputId": "011c3532-c6af-4739-fe64-9359e5351a4d"
      },
      "source": [
        "# Sumario do modelo\n",
        "print(modelo_v1.summary())"
      ],
      "execution_count": null,
      "outputs": [
        {
          "output_type": "stream",
          "text": [
            "                            OLS Regression Results                            \n",
            "==============================================================================\n",
            "Dep. Variable:                 target   R-squared:                       0.484\n",
            "Model:                            OLS   Adj. R-squared:                  0.483\n",
            "Method:                 Least Squares   F-statistic:                     471.8\n",
            "Date:                Tue, 23 Mar 2021   Prob (F-statistic):           2.49e-74\n",
            "Time:                        03:03:15   Log-Likelihood:                -1673.1\n",
            "No. Observations:                 506   AIC:                             3350.\n",
            "Df Residuals:                     504   BIC:                             3359.\n",
            "Df Model:                           1                                         \n",
            "Covariance Type:            nonrobust                                         \n",
            "==============================================================================\n",
            "                 coef    std err          t      P>|t|      [0.025      0.975]\n",
            "------------------------------------------------------------------------------\n",
            "const        -34.6706      2.650    -13.084      0.000     -39.877     -29.465\n",
            "RM             9.1021      0.419     21.722      0.000       8.279       9.925\n",
            "==============================================================================\n",
            "Omnibus:                      102.585   Durbin-Watson:                   0.684\n",
            "Prob(Omnibus):                  0.000   Jarque-Bera (JB):              612.449\n",
            "Skew:                           0.726   Prob(JB):                    1.02e-133\n",
            "Kurtosis:                       8.190   Cond. No.                         58.4\n",
            "==============================================================================\n",
            "\n",
            "Warnings:\n",
            "[1] Standard Errors assume that the covariance matrix of the errors is correctly specified.\n"
          ],
          "name": "stdout"
        }
      ]
    },
    {
      "cell_type": "code",
      "metadata": {
        "colab": {
          "base_uri": "https://localhost:8080/"
        },
        "id": "4wSqTgAfCVL-",
        "outputId": "687938fc-f31b-4ef6-8d17-3887402ccb9a"
      },
      "source": [
        "# Params\n",
        "print(modelo_v1.params)"
      ],
      "execution_count": null,
      "outputs": [
        {
          "output_type": "stream",
          "text": [
            "const   -34.670621\n",
            "RM        9.102109\n",
            "dtype: float64\n"
          ],
          "name": "stdout"
        }
      ]
    },
    {
      "cell_type": "code",
      "metadata": {
        "colab": {
          "base_uri": "https://localhost:8080/"
        },
        "id": "ad-fyse2CmuN",
        "outputId": "1c29e795-f4e6-42c9-81c4-35a8c306f43d"
      },
      "source": [
        "# Gerando os valores previstos\n",
        "val_previsto = modelo_v1.predict(x)\n",
        "print(val_previsto)"
      ],
      "execution_count": null,
      "outputs": [
        {
          "output_type": "stream",
          "text": [
            "0      25.175746\n",
            "1      23.774021\n",
            "2      30.728032\n",
            "3      29.025938\n",
            "4      30.382152\n",
            "         ...    \n",
            "501    25.339584\n",
            "502    21.034286\n",
            "503    28.825691\n",
            "504    27.169108\n",
            "505    20.215096\n",
            "Length: 506, dtype: float64\n"
          ],
          "name": "stdout"
        }
      ]
    },
    {
      "cell_type": "code",
      "metadata": {
        "colab": {
          "base_uri": "https://localhost:8080/"
        },
        "id": "oATbNJeCC6wR",
        "outputId": "3c43f34d-30fb-4e61-b465-6cefbc989972"
      },
      "source": [
        "# Fazendo previsões com o modelo treinado\n",
        "RM = 5\n",
        "Xp = np.array([1, RM])\n",
        "print (\"Se RM = %01.f nosso modelo prevê que a mediana da taxa de ocupação é %0.1f\" % (RM, modelo_v1.predict(Xp)))"
      ],
      "execution_count": null,
      "outputs": [
        {
          "output_type": "stream",
          "text": [
            "Se RM = 5 nosso modelo prevê que a mediana da taxa de ocupação é 10.8\n"
          ],
          "name": "stdout"
        }
      ]
    },
    {
      "cell_type": "code",
      "metadata": {
        "colab": {
          "base_uri": "https://localhost:8080/",
          "height": 283
        },
        "id": "tiBJp-PHDPfC",
        "outputId": "009f2d91-ce89-4f40-e602-ade501cf59b4"
      },
      "source": [
        "# Plot dos valores de x e y com a média\n",
        "scatter_plot = df.plot(kind = 'scatter', x = 'RM', y = 'target', xlim = x_range, ylim = y_range)\n",
        "\n",
        "# Cálculo da média\n",
        "meanY = scatter_plot.plot(x_range, [df['target'].mean(),df['target'].mean()], '--', color = 'red', linewidth = 1)\n",
        "meanX = scatter_plot.plot([df['RM'].mean(), df['RM'].mean()], y_range, '--', color = 'red', linewidth = 1)\n",
        "\n",
        "# Terceira camada do Scatter Plot (linha de regressão)\n",
        "regression_line = scatter_plot.plot(df['RM'], val_previsto, '-', color = 'orange', linewidth = 2)"
      ],
      "execution_count": null,
      "outputs": [
        {
          "output_type": "display_data",
          "data": {
            "image/png": "[encoded data removed]",
            "text/plain": [
              "<Figure size 432x288 with 1 Axes>"
            ]
          },
          "metadata": {
            "tags": [],
            "needs_background": "light"
          }
        }
      ]
    },
    {
      "cell_type": "code",
      "metadata": {
        "id": "0X8Kk_vYDzsZ"
      },
      "source": [
        "# Gerando os residuos\n",
        "residuos = df['target'] - val_previsto\n",
        "residuos_normalizados = standardize(residuos)"
      ],
      "execution_count": null,
      "outputs": []
    },
    {
      "cell_type": "code",
      "metadata": {
        "colab": {
          "base_uri": "https://localhost:8080/",
          "height": 279
        },
        "id": "hNjUhLfuFC5L",
        "outputId": "fc41d12f-f086-4fde-d80d-a4443273f484"
      },
      "source": [
        "# ScatterPlot dos resíduos\n",
        "residual_scatter_plot = plt.plot(df['RM'], residuos_normalizados,'bp')\n",
        "plt.xlabel('RM')\n",
        "plt.ylabel('Resíduos Normalizados')\n",
        "mean_residual = plt.plot([int(x_range[0]),round(x_range[1],0)], [0,0], '-', color = 'red', linewidth = 3)\n",
        "upper_bound = plt.plot([int(x_range[0]),round(x_range[1],0)], [3,3], '--', color = 'red', linewidth = 2)\n",
        "lower_bound = plt.plot([int(x_range[0]),round(x_range[1],0)], [-3,-3], '--', color = 'red', linewidth = 2)\n",
        "plt.grid()"
      ],
      "execution_count": null,
      "outputs": [
        {
          "output_type": "display_data",
          "data": {
            "image/png": "[encoded data removed]",
            "text/plain": [
              "<Figure size 432x288 with 1 Axes>"
            ]
          },
          "metadata": {
            "tags": [],
            "needs_background": "light"
          }
        }
      ]
    },
    {
      "cell_type": "markdown",
      "metadata": {
        "id": "5NSuX1-3Fdt1"
      },
      "source": [
        "# Regressão Linear com Scikit-Learn"
      ]
    },
    {
      "cell_type": "code",
      "metadata": {
        "id": "nWx_IbXrFWVj"
      },
      "source": [
        "from sklearn import linear_model"
      ],
      "execution_count": null,
      "outputs": []
    },
    {
      "cell_type": "code",
      "metadata": {
        "id": "EobnEUpaFog-"
      },
      "source": [
        "# Criando o objeto\n",
        "modelo_v2 = linear_model.LinearRegression(normalize=False, fit_intercept=True)"
      ],
      "execution_count": null,
      "outputs": []
    },
    {
      "cell_type": "code",
      "metadata": {
        "id": "1LK8lJguF4X6"
      },
      "source": [
        "# define os valores de x e y\n",
        "num_oberv = len(df)\n",
        "# x deve sempre ser uma matriz nunca um vetor\n",
        "x = df['RM'].values.reshape(num_oberv, 1)\n",
        "# y pode ser um vetor\n",
        "y = df['target'].values"
      ],
      "execution_count": null,
      "outputs": []
    },
    {
      "cell_type": "code",
      "metadata": {
        "colab": {
          "base_uri": "https://localhost:8080/"
        },
        "id": "EowwvUM6GdZM",
        "outputId": "e8229fcd-98d0-47f1-82fe-ca26c9d3fd5b"
      },
      "source": [
        "type(x)"
      ],
      "execution_count": null,
      "outputs": [
        {
          "output_type": "execute_result",
          "data": {
            "text/plain": [
              "numpy.ndarray"
            ]
          },
          "metadata": {
            "tags": []
          },
          "execution_count": 49
        }
      ]
    },
    {
      "cell_type": "code",
      "metadata": {
        "colab": {
          "base_uri": "https://localhost:8080/"
        },
        "id": "cFHIKrj8Gf-y",
        "outputId": "9447c07e-8648-4c68-cedf-8ad8c4be7859"
      },
      "source": [
        "np.ndim(x)"
      ],
      "execution_count": null,
      "outputs": [
        {
          "output_type": "execute_result",
          "data": {
            "text/plain": [
              "2"
            ]
          },
          "metadata": {
            "tags": []
          },
          "execution_count": 50
        }
      ]
    },
    {
      "cell_type": "code",
      "metadata": {
        "id": "hEKvK7U-GlKO"
      },
      "source": [
        "#print(x)"
      ],
      "execution_count": null,
      "outputs": []
    },
    {
      "cell_type": "code",
      "metadata": {
        "colab": {
          "base_uri": "https://localhost:8080/"
        },
        "id": "PltV_NqLGpis",
        "outputId": "f840c933-404a-46fa-e2c4-286891b9940c"
      },
      "source": [
        "type(y)"
      ],
      "execution_count": null,
      "outputs": [
        {
          "output_type": "execute_result",
          "data": {
            "text/plain": [
              "numpy.ndarray"
            ]
          },
          "metadata": {
            "tags": []
          },
          "execution_count": 53
        }
      ]
    },
    {
      "cell_type": "code",
      "metadata": {
        "colab": {
          "base_uri": "https://localhost:8080/"
        },
        "id": "qquEx6x7G4iO",
        "outputId": "913b27e3-27da-4d81-871b-be9a9805e350"
      },
      "source": [
        "np.ndim(y)"
      ],
      "execution_count": null,
      "outputs": [
        {
          "output_type": "execute_result",
          "data": {
            "text/plain": [
              "1"
            ]
          },
          "metadata": {
            "tags": []
          },
          "execution_count": 54
        }
      ]
    },
    {
      "cell_type": "code",
      "metadata": {
        "colab": {
          "base_uri": "https://localhost:8080/"
        },
        "id": "ZCTTsGdMG8KN",
        "outputId": "181cefdf-41d4-474e-d3bc-a53ac75b7522"
      },
      "source": [
        "print(y)"
      ],
      "execution_count": null,
      "outputs": [
        {
          "output_type": "stream",
          "text": [
            "[24.  21.6 34.7 33.4 36.2 28.7 22.9 27.1 16.5 18.9 15.  18.9 21.7 20.4\n",
            " 18.2 19.9 23.1 17.5 20.2 18.2 13.6 19.6 15.2 14.5 15.6 13.9 16.6 14.8\n",
            " 18.4 21.  12.7 14.5 13.2 13.1 13.5 18.9 20.  21.  24.7 30.8 34.9 26.6\n",
            " 25.3 24.7 21.2 19.3 20.  16.6 14.4 19.4 19.7 20.5 25.  23.4 18.9 35.4\n",
            " 24.7 31.6 23.3 19.6 18.7 16.  22.2 25.  33.  23.5 19.4 22.  17.4 20.9\n",
            " 24.2 21.7 22.8 23.4 24.1 21.4 20.  20.8 21.2 20.3 28.  23.9 24.8 22.9\n",
            " 23.9 26.6 22.5 22.2 23.6 28.7 22.6 22.  22.9 25.  20.6 28.4 21.4 38.7\n",
            " 43.8 33.2 27.5 26.5 18.6 19.3 20.1 19.5 19.5 20.4 19.8 19.4 21.7 22.8\n",
            " 18.8 18.7 18.5 18.3 21.2 19.2 20.4 19.3 22.  20.3 20.5 17.3 18.8 21.4\n",
            " 15.7 16.2 18.  14.3 19.2 19.6 23.  18.4 15.6 18.1 17.4 17.1 13.3 17.8\n",
            " 14.  14.4 13.4 15.6 11.8 13.8 15.6 14.6 17.8 15.4 21.5 19.6 15.3 19.4\n",
            " 17.  15.6 13.1 41.3 24.3 23.3 27.  50.  50.  50.  22.7 25.  50.  23.8\n",
            " 23.8 22.3 17.4 19.1 23.1 23.6 22.6 29.4 23.2 24.6 29.9 37.2 39.8 36.2\n",
            " 37.9 32.5 26.4 29.6 50.  32.  29.8 34.9 37.  30.5 36.4 31.1 29.1 50.\n",
            " 33.3 30.3 34.6 34.9 32.9 24.1 42.3 48.5 50.  22.6 24.4 22.5 24.4 20.\n",
            " 21.7 19.3 22.4 28.1 23.7 25.  23.3 28.7 21.5 23.  26.7 21.7 27.5 30.1\n",
            " 44.8 50.  37.6 31.6 46.7 31.5 24.3 31.7 41.7 48.3 29.  24.  25.1 31.5\n",
            " 23.7 23.3 22.  20.1 22.2 23.7 17.6 18.5 24.3 20.5 24.5 26.2 24.4 24.8\n",
            " 29.6 42.8 21.9 20.9 44.  50.  36.  30.1 33.8 43.1 48.8 31.  36.5 22.8\n",
            " 30.7 50.  43.5 20.7 21.1 25.2 24.4 35.2 32.4 32.  33.2 33.1 29.1 35.1\n",
            " 45.4 35.4 46.  50.  32.2 22.  20.1 23.2 22.3 24.8 28.5 37.3 27.9 23.9\n",
            " 21.7 28.6 27.1 20.3 22.5 29.  24.8 22.  26.4 33.1 36.1 28.4 33.4 28.2\n",
            " 22.8 20.3 16.1 22.1 19.4 21.6 23.8 16.2 17.8 19.8 23.1 21.  23.8 23.1\n",
            " 20.4 18.5 25.  24.6 23.  22.2 19.3 22.6 19.8 17.1 19.4 22.2 20.7 21.1\n",
            " 19.5 18.5 20.6 19.  18.7 32.7 16.5 23.9 31.2 17.5 17.2 23.1 24.5 26.6\n",
            " 22.9 24.1 18.6 30.1 18.2 20.6 17.8 21.7 22.7 22.6 25.  19.9 20.8 16.8\n",
            " 21.9 27.5 21.9 23.1 50.  50.  50.  50.  50.  13.8 13.8 15.  13.9 13.3\n",
            " 13.1 10.2 10.4 10.9 11.3 12.3  8.8  7.2 10.5  7.4 10.2 11.5 15.1 23.2\n",
            "  9.7 13.8 12.7 13.1 12.5  8.5  5.   6.3  5.6  7.2 12.1  8.3  8.5  5.\n",
            " 11.9 27.9 17.2 27.5 15.  17.2 17.9 16.3  7.   7.2  7.5 10.4  8.8  8.4\n",
            " 16.7 14.2 20.8 13.4 11.7  8.3 10.2 10.9 11.   9.5 14.5 14.1 16.1 14.3\n",
            " 11.7 13.4  9.6  8.7  8.4 12.8 10.5 17.1 18.4 15.4 10.8 11.8 14.9 12.6\n",
            " 14.1 13.  13.4 15.2 16.1 17.8 14.9 14.1 12.7 13.5 14.9 20.  16.4 17.7\n",
            " 19.5 20.2 21.4 19.9 19.  19.1 19.1 20.1 19.9 19.6 23.2 29.8 13.8 13.3\n",
            " 16.7 12.  14.6 21.4 23.  23.7 25.  21.8 20.6 21.2 19.1 20.6 15.2  7.\n",
            "  8.1 13.6 20.1 21.8 24.5 23.1 19.7 18.3 21.2 17.5 16.8 22.4 20.6 23.9\n",
            " 22.  11.9]\n"
          ],
          "name": "stdout"
        }
      ]
    },
    {
      "cell_type": "code",
      "metadata": {
        "colab": {
          "base_uri": "https://localhost:8080/"
        },
        "id": "MySHRThqG-va",
        "outputId": "b6686535-6404-4ca2-f2e0-d20aa28a37fa"
      },
      "source": [
        "# Treinando o modelo v2\n",
        "modelo_v2.fit(x, y)"
      ],
      "execution_count": null,
      "outputs": [
        {
          "output_type": "execute_result",
          "data": {
            "text/plain": [
              "LinearRegression(copy_X=True, fit_intercept=True, n_jobs=None, normalize=False)"
            ]
          },
          "metadata": {
            "tags": []
          },
          "execution_count": 56
        }
      ]
    },
    {
      "cell_type": "code",
      "metadata": {
        "colab": {
          "base_uri": "https://localhost:8080/"
        },
        "id": "VWz-1IUMHIv0",
        "outputId": "f84007d6-81c2-474f-9d6b-f6dc3ef36dce"
      },
      "source": [
        "# print dos coeficientes\n",
        "print('Coeficientes: ', modelo_v2.coef_)\n",
        "print('==============================================')\n",
        "print('Intercept: ', modelo_v2.intercept_)\n"
      ],
      "execution_count": null,
      "outputs": [
        {
          "output_type": "stream",
          "text": [
            "Coeficientes:  [9.10210898]\n",
            "==============================================\n",
            "Intercept:  -34.67062077643857\n"
          ],
          "name": "stdout"
        }
      ]
    },
    {
      "cell_type": "code",
      "metadata": {
        "colab": {
          "base_uri": "https://localhost:8080/"
        },
        "id": "tsIUVDFpHlCl",
        "outputId": "ddd73727-340b-46cc-ca7c-69338a771b24"
      },
      "source": [
        "# Fazendo previsões com o modelo treinado\n",
        "RM = 5\n",
        "Xp = np.array([RM]).reshape(-1, 1)\n",
        "print (\"Se RM = %01.f nosso modelo prevê que a mediana da taxa de ocupação é %0.1f\" % (RM, modelo_v2.predict(Xp)))"
      ],
      "execution_count": null,
      "outputs": [
        {
          "output_type": "stream",
          "text": [
            "Se RM = 5 nosso modelo prevê que a mediana da taxa de ocupação é 10.8\n"
          ],
          "name": "stdout"
        }
      ]
    },
    {
      "cell_type": "markdown",
      "metadata": {
        "id": "V1qleonfIzOK"
      },
      "source": [
        "# Regressão Linear Múltipla"
      ]
    },
    {
      "cell_type": "markdown",
      "metadata": {
        "id": "GMheck2vJF2D"
      },
      "source": [
        "Usando a Regressao Linear Múltipla para solucionar o problema acima."
      ]
    },
    {
      "cell_type": "code",
      "metadata": {
        "id": "RMKrsBQkH2ml",
        "colab": {
          "base_uri": "https://localhost:8080/"
        },
        "outputId": "28e20fe9-6b7a-4561-d975-567871e1c5a5"
      },
      "source": [
        "# Imports\n",
        "import numpy as np\n",
        "import pandas as pd\n",
        "import matplotlib.pyplot as plt\n",
        "import matplotlib as mpl\n",
        "from sklearn.datasets import load_boston\n",
        "from sklearn import linear_model\n",
        "from sklearn.metrics import r2_score\n",
        "from sklearn.pipeline import make_pipeline\n",
        "from sklearn.preprocessing import StandardScaler\n",
        "import statsmodels.api as sm\n",
        "import statsmodels.formula.api as smf\n",
        "import warnings\n",
        "warnings.filterwarnings(\"ignore\")\n"
      ],
      "execution_count": null,
      "outputs": [
        {
          "output_type": "stream",
          "text": [
            "/usr/local/lib/python3.7/dist-packages/statsmodels/tools/_testing.py:19: FutureWarning: pandas.util.testing is deprecated. Use the functions in the public API at pandas.testing instead.\n",
            "  import pandas.util.testing as tm\n"
          ],
          "name": "stderr"
        }
      ]
    },
    {
      "cell_type": "code",
      "metadata": {
        "id": "D4yH3fqR60R_"
      },
      "source": [
        "# Carregando o dataset Boston Houses\n",
        "from sklearn.datasets import load_boston\n",
        "boston = load_boston()"
      ],
      "execution_count": null,
      "outputs": []
    },
    {
      "cell_type": "code",
      "metadata": {
        "id": "s6ult_sE6p4M"
      },
      "source": [
        "# Dataframe\n",
        "df = pd.DataFrame(boston.data, columns=boston.feature_names)\n",
        "df['target'] = boston.target"
      ],
      "execution_count": null,
      "outputs": []
    },
    {
      "cell_type": "code",
      "metadata": {
        "id": "XmgeauoWJEf7"
      },
      "source": [
        "# Gerando numero de obesrevaçoes\n",
        "observations = len(df)\n",
        "variables = df.columns[:-1]"
      ],
      "execution_count": null,
      "outputs": []
    },
    {
      "cell_type": "code",
      "metadata": {
        "id": "t7rObsybJj_E"
      },
      "source": [
        "# Coletando x e y\n",
        "X = df.iloc[:, :-1]\n",
        "Y = df['target'].values"
      ],
      "execution_count": null,
      "outputs": []
    },
    {
      "cell_type": "code",
      "metadata": {
        "colab": {
          "base_uri": "https://localhost:8080/",
          "height": 204
        },
        "id": "d57FK3xZJ29Z",
        "outputId": "a69e30d3-0889-4b0d-cf6e-bbadc5484f69"
      },
      "source": [
        "X.head()"
      ],
      "execution_count": null,
      "outputs": [
        {
          "output_type": "execute_result",
          "data": {
            "text/html": [
              "<div>\n",
              "<style scoped>\n",
              "    .dataframe tbody tr th:only-of-type {\n",
              "        vertical-align: middle;\n",
              "    }\n",
              "\n",
              "    .dataframe tbody tr th {\n",
              "        vertical-align: top;\n",
              "    }\n",
              "\n",
              "    .dataframe thead th {\n",
              "        text-align: right;\n",
              "    }\n",
              "</style>\n",
              "<table border=\"1\" class=\"dataframe\">\n",
              "  <thead>\n",
              "    <tr style=\"text-align: right;\">\n",
              "      <th></th>\n",
              "      <th>CRIM</th>\n",
              "      <th>ZN</th>\n",
              "      <th>INDUS</th>\n",
              "      <th>CHAS</th>\n",
              "      <th>NOX</th>\n",
              "      <th>RM</th>\n",
              "      <th>AGE</th>\n",
              "      <th>DIS</th>\n",
              "      <th>RAD</th>\n",
              "      <th>TAX</th>\n",
              "      <th>PTRATIO</th>\n",
              "      <th>B</th>\n",
              "      <th>LSTAT</th>\n",
              "    </tr>\n",
              "  </thead>\n",
              "  <tbody>\n",
              "    <tr>\n",
              "      <th>0</th>\n",
              "      <td>0.00632</td>\n",
              "      <td>18.0</td>\n",
              "      <td>2.31</td>\n",
              "      <td>0.0</td>\n",
              "      <td>0.538</td>\n",
              "      <td>6.575</td>\n",
              "      <td>65.2</td>\n",
              "      <td>4.0900</td>\n",
              "      <td>1.0</td>\n",
              "      <td>296.0</td>\n",
              "      <td>15.3</td>\n",
              "      <td>396.90</td>\n",
              "      <td>4.98</td>\n",
              "    </tr>\n",
              "    <tr>\n",
              "      <th>1</th>\n",
              "      <td>0.02731</td>\n",
              "      <td>0.0</td>\n",
              "      <td>7.07</td>\n",
              "      <td>0.0</td>\n",
              "      <td>0.469</td>\n",
              "      <td>6.421</td>\n",
              "      <td>78.9</td>\n",
              "      <td>4.9671</td>\n",
              "      <td>2.0</td>\n",
              "      <td>242.0</td>\n",
              "      <td>17.8</td>\n",
              "      <td>396.90</td>\n",
              "      <td>9.14</td>\n",
              "    </tr>\n",
              "    <tr>\n",
              "      <th>2</th>\n",
              "      <td>0.02729</td>\n",
              "      <td>0.0</td>\n",
              "      <td>7.07</td>\n",
              "      <td>0.0</td>\n",
              "      <td>0.469</td>\n",
              "      <td>7.185</td>\n",
              "      <td>61.1</td>\n",
              "      <td>4.9671</td>\n",
              "      <td>2.0</td>\n",
              "      <td>242.0</td>\n",
              "      <td>17.8</td>\n",
              "      <td>392.83</td>\n",
              "      <td>4.03</td>\n",
              "    </tr>\n",
              "    <tr>\n",
              "      <th>3</th>\n",
              "      <td>0.03237</td>\n",
              "      <td>0.0</td>\n",
              "      <td>2.18</td>\n",
              "      <td>0.0</td>\n",
              "      <td>0.458</td>\n",
              "      <td>6.998</td>\n",
              "      <td>45.8</td>\n",
              "      <td>6.0622</td>\n",
              "      <td>3.0</td>\n",
              "      <td>222.0</td>\n",
              "      <td>18.7</td>\n",
              "      <td>394.63</td>\n",
              "      <td>2.94</td>\n",
              "    </tr>\n",
              "    <tr>\n",
              "      <th>4</th>\n",
              "      <td>0.06905</td>\n",
              "      <td>0.0</td>\n",
              "      <td>2.18</td>\n",
              "      <td>0.0</td>\n",
              "      <td>0.458</td>\n",
              "      <td>7.147</td>\n",
              "      <td>54.2</td>\n",
              "      <td>6.0622</td>\n",
              "      <td>3.0</td>\n",
              "      <td>222.0</td>\n",
              "      <td>18.7</td>\n",
              "      <td>396.90</td>\n",
              "      <td>5.33</td>\n",
              "    </tr>\n",
              "  </tbody>\n",
              "</table>\n",
              "</div>"
            ],
            "text/plain": [
              "      CRIM    ZN  INDUS  CHAS    NOX  ...  RAD    TAX  PTRATIO       B  LSTAT\n",
              "0  0.00632  18.0   2.31   0.0  0.538  ...  1.0  296.0     15.3  396.90   4.98\n",
              "1  0.02731   0.0   7.07   0.0  0.469  ...  2.0  242.0     17.8  396.90   9.14\n",
              "2  0.02729   0.0   7.07   0.0  0.469  ...  2.0  242.0     17.8  392.83   4.03\n",
              "3  0.03237   0.0   2.18   0.0  0.458  ...  3.0  222.0     18.7  394.63   2.94\n",
              "4  0.06905   0.0   2.18   0.0  0.458  ...  3.0  222.0     18.7  396.90   5.33\n",
              "\n",
              "[5 rows x 13 columns]"
            ]
          },
          "metadata": {
            "tags": []
          },
          "execution_count": 6
        }
      ]
    },
    {
      "cell_type": "markdown",
      "metadata": {
        "id": "0PJLKrxBKDCp"
      },
      "source": [
        "# Usando Múltiplos atribus com StatsModels"
      ]
    },
    {
      "cell_type": "code",
      "metadata": {
        "id": "LFOXND67J7fd"
      },
      "source": [
        "Xc = sm.add_constant(X)\n",
        "modelo = sm.OLS(Y, Xc)\n",
        "modelo_v1m = modelo.fit()"
      ],
      "execution_count": null,
      "outputs": []
    },
    {
      "cell_type": "code",
      "metadata": {
        "colab": {
          "base_uri": "https://localhost:8080/",
          "height": 730
        },
        "id": "XLi8e04yKcrL",
        "outputId": "18e8bc28-bca5-421f-fb62-d3e5f58c1c01"
      },
      "source": [
        "# Sumario\n",
        "modelo_v1m.summary()"
      ],
      "execution_count": null,
      "outputs": [
        {
          "output_type": "execute_result",
          "data": {
            "text/html": [
              "<table class=\"simpletable\">\n",
              "<caption>OLS Regression Results</caption>\n",
              "<tr>\n",
              "  <th>Dep. Variable:</th>            <td>y</td>        <th>  R-squared:         </th> <td>   0.741</td> \n",
              "</tr>\n",
              "<tr>\n",
              "  <th>Model:</th>                   <td>OLS</td>       <th>  Adj. R-squared:    </th> <td>   0.734</td> \n",
              "</tr>\n",
              "<tr>\n",
              "  <th>Method:</th>             <td>Least Squares</td>  <th>  F-statistic:       </th> <td>   108.1</td> \n",
              "</tr>\n",
              "<tr>\n",
              "  <th>Date:</th>             <td>Wed, 24 Mar 2021</td> <th>  Prob (F-statistic):</th> <td>6.72e-135</td>\n",
              "</tr>\n",
              "<tr>\n",
              "  <th>Time:</th>                 <td>01:49:43</td>     <th>  Log-Likelihood:    </th> <td> -1498.8</td> \n",
              "</tr>\n",
              "<tr>\n",
              "  <th>No. Observations:</th>      <td>   506</td>      <th>  AIC:               </th> <td>   3026.</td> \n",
              "</tr>\n",
              "<tr>\n",
              "  <th>Df Residuals:</th>          <td>   492</td>      <th>  BIC:               </th> <td>   3085.</td> \n",
              "</tr>\n",
              "<tr>\n",
              "  <th>Df Model:</th>              <td>    13</td>      <th>                     </th>     <td> </td>    \n",
              "</tr>\n",
              "<tr>\n",
              "  <th>Covariance Type:</th>      <td>nonrobust</td>    <th>                     </th>     <td> </td>    \n",
              "</tr>\n",
              "</table>\n",
              "<table class=\"simpletable\">\n",
              "<tr>\n",
              "     <td></td>        <th>coef</th>     <th>std err</th>      <th>t</th>      <th>P>|t|</th>  <th>[0.025</th>    <th>0.975]</th>  \n",
              "</tr>\n",
              "<tr>\n",
              "  <th>const</th>   <td>   36.4595</td> <td>    5.103</td> <td>    7.144</td> <td> 0.000</td> <td>   26.432</td> <td>   46.487</td>\n",
              "</tr>\n",
              "<tr>\n",
              "  <th>CRIM</th>    <td>   -0.1080</td> <td>    0.033</td> <td>   -3.287</td> <td> 0.001</td> <td>   -0.173</td> <td>   -0.043</td>\n",
              "</tr>\n",
              "<tr>\n",
              "  <th>ZN</th>      <td>    0.0464</td> <td>    0.014</td> <td>    3.382</td> <td> 0.001</td> <td>    0.019</td> <td>    0.073</td>\n",
              "</tr>\n",
              "<tr>\n",
              "  <th>INDUS</th>   <td>    0.0206</td> <td>    0.061</td> <td>    0.334</td> <td> 0.738</td> <td>   -0.100</td> <td>    0.141</td>\n",
              "</tr>\n",
              "<tr>\n",
              "  <th>CHAS</th>    <td>    2.6867</td> <td>    0.862</td> <td>    3.118</td> <td> 0.002</td> <td>    0.994</td> <td>    4.380</td>\n",
              "</tr>\n",
              "<tr>\n",
              "  <th>NOX</th>     <td>  -17.7666</td> <td>    3.820</td> <td>   -4.651</td> <td> 0.000</td> <td>  -25.272</td> <td>  -10.262</td>\n",
              "</tr>\n",
              "<tr>\n",
              "  <th>RM</th>      <td>    3.8099</td> <td>    0.418</td> <td>    9.116</td> <td> 0.000</td> <td>    2.989</td> <td>    4.631</td>\n",
              "</tr>\n",
              "<tr>\n",
              "  <th>AGE</th>     <td>    0.0007</td> <td>    0.013</td> <td>    0.052</td> <td> 0.958</td> <td>   -0.025</td> <td>    0.027</td>\n",
              "</tr>\n",
              "<tr>\n",
              "  <th>DIS</th>     <td>   -1.4756</td> <td>    0.199</td> <td>   -7.398</td> <td> 0.000</td> <td>   -1.867</td> <td>   -1.084</td>\n",
              "</tr>\n",
              "<tr>\n",
              "  <th>RAD</th>     <td>    0.3060</td> <td>    0.066</td> <td>    4.613</td> <td> 0.000</td> <td>    0.176</td> <td>    0.436</td>\n",
              "</tr>\n",
              "<tr>\n",
              "  <th>TAX</th>     <td>   -0.0123</td> <td>    0.004</td> <td>   -3.280</td> <td> 0.001</td> <td>   -0.020</td> <td>   -0.005</td>\n",
              "</tr>\n",
              "<tr>\n",
              "  <th>PTRATIO</th> <td>   -0.9527</td> <td>    0.131</td> <td>   -7.283</td> <td> 0.000</td> <td>   -1.210</td> <td>   -0.696</td>\n",
              "</tr>\n",
              "<tr>\n",
              "  <th>B</th>       <td>    0.0093</td> <td>    0.003</td> <td>    3.467</td> <td> 0.001</td> <td>    0.004</td> <td>    0.015</td>\n",
              "</tr>\n",
              "<tr>\n",
              "  <th>LSTAT</th>   <td>   -0.5248</td> <td>    0.051</td> <td>  -10.347</td> <td> 0.000</td> <td>   -0.624</td> <td>   -0.425</td>\n",
              "</tr>\n",
              "</table>\n",
              "<table class=\"simpletable\">\n",
              "<tr>\n",
              "  <th>Omnibus:</th>       <td>178.041</td> <th>  Durbin-Watson:     </th> <td>   1.078</td> \n",
              "</tr>\n",
              "<tr>\n",
              "  <th>Prob(Omnibus):</th> <td> 0.000</td>  <th>  Jarque-Bera (JB):  </th> <td> 783.126</td> \n",
              "</tr>\n",
              "<tr>\n",
              "  <th>Skew:</th>          <td> 1.521</td>  <th>  Prob(JB):          </th> <td>8.84e-171</td>\n",
              "</tr>\n",
              "<tr>\n",
              "  <th>Kurtosis:</th>      <td> 8.281</td>  <th>  Cond. No.          </th> <td>1.51e+04</td> \n",
              "</tr>\n",
              "</table><br/><br/>Warnings:<br/>[1] Standard Errors assume that the covariance matrix of the errors is correctly specified.<br/>[2] The condition number is large, 1.51e+04. This might indicate that there are<br/>strong multicollinearity or other numerical problems."
            ],
            "text/plain": [
              "<class 'statsmodels.iolib.summary.Summary'>\n",
              "\"\"\"\n",
              "                            OLS Regression Results                            \n",
              "==============================================================================\n",
              "Dep. Variable:                      y   R-squared:                       0.741\n",
              "Model:                            OLS   Adj. R-squared:                  0.734\n",
              "Method:                 Least Squares   F-statistic:                     108.1\n",
              "Date:                Wed, 24 Mar 2021   Prob (F-statistic):          6.72e-135\n",
              "Time:                        01:49:43   Log-Likelihood:                -1498.8\n",
              "No. Observations:                 506   AIC:                             3026.\n",
              "Df Residuals:                     492   BIC:                             3085.\n",
              "Df Model:                          13                                         \n",
              "Covariance Type:            nonrobust                                         \n",
              "==============================================================================\n",
              "                 coef    std err          t      P>|t|      [0.025      0.975]\n",
              "------------------------------------------------------------------------------\n",
              "const         36.4595      5.103      7.144      0.000      26.432      46.487\n",
              "CRIM          -0.1080      0.033     -3.287      0.001      -0.173      -0.043\n",
              "ZN             0.0464      0.014      3.382      0.001       0.019       0.073\n",
              "INDUS          0.0206      0.061      0.334      0.738      -0.100       0.141\n",
              "CHAS           2.6867      0.862      3.118      0.002       0.994       4.380\n",
              "NOX          -17.7666      3.820     -4.651      0.000     -25.272     -10.262\n",
              "RM             3.8099      0.418      9.116      0.000       2.989       4.631\n",
              "AGE            0.0007      0.013      0.052      0.958      -0.025       0.027\n",
              "DIS           -1.4756      0.199     -7.398      0.000      -1.867      -1.084\n",
              "RAD            0.3060      0.066      4.613      0.000       0.176       0.436\n",
              "TAX           -0.0123      0.004     -3.280      0.001      -0.020      -0.005\n",
              "PTRATIO       -0.9527      0.131     -7.283      0.000      -1.210      -0.696\n",
              "B              0.0093      0.003      3.467      0.001       0.004       0.015\n",
              "LSTAT         -0.5248      0.051    -10.347      0.000      -0.624      -0.425\n",
              "==============================================================================\n",
              "Omnibus:                      178.041   Durbin-Watson:                   1.078\n",
              "Prob(Omnibus):                  0.000   Jarque-Bera (JB):              783.126\n",
              "Skew:                           1.521   Prob(JB):                    8.84e-171\n",
              "Kurtosis:                       8.281   Cond. No.                     1.51e+04\n",
              "==============================================================================\n",
              "\n",
              "Warnings:\n",
              "[1] Standard Errors assume that the covariance matrix of the errors is correctly specified.\n",
              "[2] The condition number is large, 1.51e+04. This might indicate that there are\n",
              "strong multicollinearity or other numerical problems.\n",
              "\"\"\""
            ]
          },
          "metadata": {
            "tags": []
          },
          "execution_count": 8
        }
      ]
    },
    {
      "cell_type": "markdown",
      "metadata": {
        "id": "gEL0skvbKxDc"
      },
      "source": [
        "# Matriz de correlação"
      ]
    },
    {
      "cell_type": "code",
      "metadata": {
        "colab": {
          "base_uri": "https://localhost:8080/"
        },
        "id": "Lvg9vUjHKihf",
        "outputId": "01c0cb77-d922-400f-d9c1-3188889522fc"
      },
      "source": [
        "# Gerando a matriz de correlação\n",
        "X = df.iloc[:, :-1]\n",
        "matriz_corr = X.corr()\n",
        "print(matriz_corr)"
      ],
      "execution_count": null,
      "outputs": [
        {
          "output_type": "stream",
          "text": [
            "             CRIM        ZN     INDUS  ...   PTRATIO         B     LSTAT\n",
            "CRIM     1.000000 -0.200469  0.406583  ...  0.289946 -0.385064  0.455621\n",
            "ZN      -0.200469  1.000000 -0.533828  ... -0.391679  0.175520 -0.412995\n",
            "INDUS    0.406583 -0.533828  1.000000  ...  0.383248 -0.356977  0.603800\n",
            "CHAS    -0.055892 -0.042697  0.062938  ... -0.121515  0.048788 -0.053929\n",
            "NOX      0.420972 -0.516604  0.763651  ...  0.188933 -0.380051  0.590879\n",
            "RM      -0.219247  0.311991 -0.391676  ... -0.355501  0.128069 -0.613808\n",
            "AGE      0.352734 -0.569537  0.644779  ...  0.261515 -0.273534  0.602339\n",
            "DIS     -0.379670  0.664408 -0.708027  ... -0.232471  0.291512 -0.496996\n",
            "RAD      0.625505 -0.311948  0.595129  ...  0.464741 -0.444413  0.488676\n",
            "TAX      0.582764 -0.314563  0.720760  ...  0.460853 -0.441808  0.543993\n",
            "PTRATIO  0.289946 -0.391679  0.383248  ...  1.000000 -0.177383  0.374044\n",
            "B       -0.385064  0.175520 -0.356977  ... -0.177383  1.000000 -0.366087\n",
            "LSTAT    0.455621 -0.412995  0.603800  ...  0.374044 -0.366087  1.000000\n",
            "\n",
            "[13 rows x 13 columns]\n"
          ],
          "name": "stdout"
        }
      ]
    },
    {
      "cell_type": "code",
      "metadata": {
        "id": "TsOcxNdhK-yY"
      },
      "source": [
        "# Criando um Correlation Plot\n",
        "def visualize_correlation_matrix(data, hurdle = 0.0):\n",
        "    R = np.corrcoef(data, rowvar = 0)\n",
        "    R[np.where(np.abs(R) < hurdle)] = 0.0\n",
        "    heatmap = plt.pcolor(R, cmap = mpl.cm.coolwarm, alpha = 0.8)\n",
        "    heatmap.axes.set_frame_on(False)\n",
        "    heatmap.axes.set_yticks(np.arange(R.shape[0]) + 0.5, minor = False)\n",
        "    heatmap.axes.set_xticks(np.arange(R.shape[1]) + 0.5, minor = False)\n",
        "    heatmap.axes.set_xticklabels(variables, minor = False)\n",
        "    plt.xticks(rotation=90)\n",
        "    heatmap.axes.set_yticklabels(variables, minor = False)\n",
        "    plt.tick_params(axis = 'both', which = 'both', bottom = 'off', top = 'off', left = 'off', right = 'off')\n",
        "    plt.colorbar()\n",
        "    plt.show()"
      ],
      "execution_count": null,
      "outputs": []
    },
    {
      "cell_type": "code",
      "metadata": {
        "colab": {
          "base_uri": "https://localhost:8080/",
          "height": 301
        },
        "id": "-zKKsCk-Lffb",
        "outputId": "d28b13e4-04ae-43c3-e251-22673b26218a"
      },
      "source": [
        "# Visualizando o plot\n",
        "visualize_correlation_matrix(X, hurdle= 0.5)"
      ],
      "execution_count": null,
      "outputs": [
        {
          "output_type": "display_data",
          "data": {
            "image/png": "[encoded data removed]",
            "text/plain": [
              "<Figure size 432x288 with 2 Axes>"
            ]
          },
          "metadata": {
            "tags": [],
            "needs_background": "light"
          }
        }
      ]
    },
    {
      "cell_type": "markdown",
      "metadata": {
        "id": "qXkIQpe6MOZF"
      },
      "source": [
        "# Autovalores (Eigenvalues) e Autovetores (Eigenvectores)"
      ]
    },
    {
      "cell_type": "code",
      "metadata": {
        "id": "D5NkxTddLpPk"
      },
      "source": [
        "# Gerando a correlação\n",
        "corr = np.corrcoef(X, rowvar= 0)\n",
        "eigenvalues, eigenvectores = np.linalg.eig(corr)"
      ],
      "execution_count": null,
      "outputs": []
    },
    {
      "cell_type": "code",
      "metadata": {
        "colab": {
          "base_uri": "https://localhost:8080/"
        },
        "id": "QKZvAZywM1m4",
        "outputId": "e6f86808-00c8-4b17-e7a7-ae4731b1be90"
      },
      "source": [
        "print('Eigenvalues: ', eigenvalues)\n",
        "print('==================================')\n",
        "print('Eigenvectores: ', eigenvectores[:,8])"
      ],
      "execution_count": null,
      "outputs": [
        {
          "output_type": "stream",
          "text": [
            "Eigenvalues:  [6.12684883 1.43327512 1.24261667 0.85757511 0.83481594 0.65740718\n",
            " 0.53535609 0.39609731 0.06350926 0.27694333 0.16930298 0.18601437\n",
            " 0.22023782]\n",
            "==================================\n",
            "Eigenvectores:  [-0.0459523   0.08091897  0.25107654 -0.03592171 -0.04363045 -0.0455671\n",
            "  0.03855068  0.01829854  0.63348972 -0.72023345 -0.02339805  0.00446307\n",
            " -0.02443168]\n"
          ],
          "name": "stdout"
        }
      ]
    },
    {
      "cell_type": "markdown",
      "metadata": {
        "id": "E52PStpFNdMC"
      },
      "source": [
        "Exibimos os nomes das variavesi que mais contribuem para construir o autovetor. Associamos o vetor de variaveis com eigenvector"
      ]
    },
    {
      "cell_type": "code",
      "metadata": {
        "colab": {
          "base_uri": "https://localhost:8080/"
        },
        "id": "nJF9LTrgNJvv",
        "outputId": "f290b101-d481-47e0-e2c4-a84d414a6478"
      },
      "source": [
        "print(variables[2], variables[8], variables[9])"
      ],
      "execution_count": null,
      "outputs": [
        {
          "output_type": "stream",
          "text": [
            "INDUS RAD TAX\n"
          ],
          "name": "stdout"
        }
      ]
    },
    {
      "cell_type": "markdown",
      "metadata": {
        "id": "XKyBcbNUN6QQ"
      },
      "source": [
        "Tendo encontrado os culpados da multicolinearidade, o que devemos fazer com essas variaveis? A remoção de algumas delas é geralmente a melhor solução."
      ]
    },
    {
      "cell_type": "markdown",
      "metadata": {
        "id": "LPLPJcUPOdQd"
      },
      "source": [
        "Podemos aplicar Feature Scaling através de Padronização ou Normalização. Normalização aplica escala aos dados com intervalos entre 0 e 1. A Padronização divide a média pelo desvio padrão para obter uma unidade de variância. Vamos usar a Padronização (StandardScaler) pois nesse caso esta técnica ajusta os coeficientes e torna a superfície de erros mais \"tratável\"."
      ]
    },
    {
      "cell_type": "code",
      "metadata": {
        "id": "cH_0z1rXN18H"
      },
      "source": [
        "# Aplicando Padronização\n",
        "standardization = StandardScaler()\n",
        "Xst = standardization.fit_transform(X)\n",
        "original_means = standardization.mean_\n",
        "original_stds = standardization.scale_"
      ],
      "execution_count": null,
      "outputs": []
    },
    {
      "cell_type": "code",
      "metadata": {
        "id": "VdvBTpj-PJEK"
      },
      "source": [
        "# Gerando X e Y\n",
        "Xst = np.column_stack((Xst, np.ones(observations)))\n",
        "y = df['target'].values"
      ],
      "execution_count": null,
      "outputs": []
    },
    {
      "cell_type": "code",
      "metadata": {
        "id": "xVkv4xaWPwvd"
      },
      "source": [
        "import random\n",
        "import numpy as np\n",
        "\n",
        "def random_w( p ):\n",
        "    return np.array([np.random.normal() for j in range(p)])\n",
        "\n",
        "def hypothesis(X,w):\n",
        "    return np.dot(X,w)\n",
        "\n",
        "def loss(X,w,y):\n",
        "    return hypothesis(X,w) - y\n",
        "\n",
        "def squared_loss(X,w,y):\n",
        "    return loss(X,w,y)**2\n",
        "\n",
        "def gradient(X,w,y):\n",
        "    gradients = list()\n",
        "    n = float(len( y ))\n",
        "    for j in range(len(w)):\n",
        "        gradients.append(np.sum(loss(X,w,y) * X[:,j]) / n)\n",
        "    return gradients\n",
        "\n",
        "def update(X,w,y, alpha = 0.01):\n",
        "    return [t - alpha*g for t, g in zip(w, gradient(X,w,y))]\n",
        "\n",
        "def optimize(X,y, alpha = 0.01, eta = 10**-12, iterations = 1000):\n",
        "    w = random_w(X.shape[1])\n",
        "    path = list()\n",
        "    for k in range(iterations):\n",
        "        SSL = np.sum(squared_loss(X,w,y))\n",
        "        new_w = update(X,w,y, alpha = alpha)\n",
        "        new_SSL = np.sum(squared_loss(X,new_w,y))\n",
        "        w = new_w\n",
        "        if k>=5 and (new_SSL - SSL <= eta and new_SSL - SSL >= -eta):\n",
        "            path.append(new_SSL)\n",
        "            return w, path\n",
        "        if k % (iterations / 20) == 0:\n",
        "            path.append(new_SSL)\n",
        "    return w, path "
      ],
      "execution_count": null,
      "outputs": []
    },
    {
      "cell_type": "code",
      "metadata": {
        "colab": {
          "base_uri": "https://localhost:8080/"
        },
        "id": "xh2tcIM5QIRl",
        "outputId": "aff05bc5-c4bd-45b0-ee1b-fae8d64ed95d"
      },
      "source": [
        "# Imprimindo o resultado                          \n",
        "alpha = 0.01\n",
        "w, path = optimize(Xst, y, alpha, eta = 10**-12, iterations = 20000)\n",
        "print (\"Coeficientes finais padronizados: \" + ', '.join(map(lambda x: \"%0.4f\" % x, w)))  "
      ],
      "execution_count": null,
      "outputs": [
        {
          "output_type": "stream",
          "text": [
            "Coeficientes finais padronizados: -0.9281, 1.0816, 0.1409, 0.6817, -2.0567, 2.6742, 0.0195, -3.1040, 2.6622, -2.0768, -2.0606, 0.8493, -3.7436, 22.5328\n"
          ],
          "name": "stdout"
        }
      ]
    },
    {
      "cell_type": "code",
      "metadata": {
        "id": "siJWdTVzapxT"
      },
      "source": [
        "# Desfazendo a Padronização\n",
        "unstandardized_betas = w[:-1] / original_stds\n",
        "unstandardized_bias  = w[-1]-np.sum((original_means / original_stds) * w[:-1])"
      ],
      "execution_count": null,
      "outputs": []
    },
    {
      "cell_type": "code",
      "metadata": {
        "colab": {
          "base_uri": "https://localhost:8080/"
        },
        "id": "A4veU8Fu8UPd",
        "outputId": "d5ff0e53-03a7-443f-e2d3-082dc47c6c79"
      },
      "source": [
        "# Imprimindo o resultado\n",
        "print ('%8s: %8.4f' % ('bias', unstandardized_bias))\n",
        "for beta,varname in zip(unstandardized_betas, variables):\n",
        "    print ('%8s: %8.4f' % (varname, beta))"
      ],
      "execution_count": null,
      "outputs": [
        {
          "output_type": "stream",
          "text": [
            "    bias:  36.4595\n",
            "    CRIM:  -0.1080\n",
            "      ZN:   0.0464\n",
            "   INDUS:   0.0206\n",
            "    CHAS:   2.6867\n",
            "     NOX: -17.7666\n",
            "      RM:   3.8099\n",
            "     AGE:   0.0007\n",
            "     DIS:  -1.4756\n",
            "     RAD:   0.3060\n",
            "     TAX:  -0.0123\n",
            " PTRATIO:  -0.9527\n",
            "       B:   0.0093\n",
            "   LSTAT:  -0.5248\n"
          ],
          "name": "stdout"
        }
      ]
    },
    {
      "cell_type": "markdown",
      "metadata": {
        "id": "jAm3MlUY813B"
      },
      "source": [
        "# Importancia dos Atributos"
      ]
    },
    {
      "cell_type": "code",
      "metadata": {
        "id": "1nW5DSQF8vBT"
      },
      "source": [
        "# Criando o modelo\n",
        "modelo = linear_model.LinearRegression(normalize=False, fit_intercept= True)"
      ],
      "execution_count": null,
      "outputs": []
    },
    {
      "cell_type": "code",
      "metadata": {
        "colab": {
          "base_uri": "https://localhost:8080/"
        },
        "id": "vWOfz2Wf9Kon",
        "outputId": "ed327c66-139a-4480-b75d-f9d5816bf7c3"
      },
      "source": [
        "# Treinando o modelo com os dados não padronizados (escalas diferentes)\n",
        "modelo.fit(X, y)"
      ],
      "execution_count": null,
      "outputs": [
        {
          "output_type": "execute_result",
          "data": {
            "text/plain": [
              "LinearRegression(copy_X=True, fit_intercept=True, n_jobs=None, normalize=False)"
            ]
          },
          "metadata": {
            "tags": []
          },
          "execution_count": 23
        }
      ]
    },
    {
      "cell_type": "code",
      "metadata": {
        "colab": {
          "base_uri": "https://localhost:8080/"
        },
        "id": "3HxPAwPK9ZrG",
        "outputId": "1bfbd4fa-521e-4501-c998-11ac80927f8f"
      },
      "source": [
        "# Imprimindo os coeficientes e as variáveis\n",
        "for coef, var in sorted(zip(map(abs, modelo.coef_), df.columns[:-1]), reverse = True):\n",
        "    print (\"%6.3f %s\" % (coef,var))"
      ],
      "execution_count": null,
      "outputs": [
        {
          "output_type": "stream",
          "text": [
            "17.767 NOX\n",
            " 3.810 RM\n",
            " 2.687 CHAS\n",
            " 1.476 DIS\n",
            " 0.953 PTRATIO\n",
            " 0.525 LSTAT\n",
            " 0.306 RAD\n",
            " 0.108 CRIM\n",
            " 0.046 ZN\n",
            " 0.021 INDUS\n",
            " 0.012 TAX\n",
            " 0.009 B\n",
            " 0.001 AGE\n"
          ],
          "name": "stdout"
        }
      ]
    },
    {
      "cell_type": "code",
      "metadata": {
        "id": "04bLzDjE9s4l"
      },
      "source": [
        "# Padronizando os dados\n",
        "standardization = StandardScaler()\n",
        "Stand_coef_linear_reg = make_pipeline(standardization, modelo)"
      ],
      "execution_count": null,
      "outputs": []
    },
    {
      "cell_type": "code",
      "metadata": {
        "colab": {
          "base_uri": "https://localhost:8080/"
        },
        "id": "cuC92XSl-FfE",
        "outputId": "db1fc1eb-ecb4-4e90-8d30-d095484e934e"
      },
      "source": [
        "# Treinando o modelo com os dados padronizados\n",
        "Stand_coef_linear_reg.fit(X, y)"
      ],
      "execution_count": null,
      "outputs": [
        {
          "output_type": "execute_result",
          "data": {
            "text/plain": [
              "Pipeline(memory=None,\n",
              "         steps=[('standardscaler',\n",
              "                 StandardScaler(copy=True, with_mean=True, with_std=True)),\n",
              "                ('linearregression',\n",
              "                 LinearRegression(copy_X=True, fit_intercept=True, n_jobs=None,\n",
              "                                  normalize=False))],\n",
              "         verbose=False)"
            ]
          },
          "metadata": {
            "tags": []
          },
          "execution_count": 26
        }
      ]
    },
    {
      "cell_type": "code",
      "metadata": {
        "colab": {
          "base_uri": "https://localhost:8080/"
        },
        "id": "dVy0IJyi-VYQ",
        "outputId": "4b1f9e1f-3e3b-4e39-cd8c-d1f980351224"
      },
      "source": [
        "# Imprimindo os coeficientes e as variáveis\n",
        "for coef, var in sorted(zip(map(abs, Stand_coef_linear_reg.steps[1][1].coef_), df.columns[:-1]), reverse = True):\n",
        "    print (\"%6.3f %s\" % (coef,var))\n"
      ],
      "execution_count": null,
      "outputs": [
        {
          "output_type": "stream",
          "text": [
            " 3.744 LSTAT\n",
            " 3.104 DIS\n",
            " 2.674 RM\n",
            " 2.662 RAD\n",
            " 2.077 TAX\n",
            " 2.061 PTRATIO\n",
            " 2.057 NOX\n",
            " 1.082 ZN\n",
            " 0.928 CRIM\n",
            " 0.849 B\n",
            " 0.682 CHAS\n",
            " 0.141 INDUS\n",
            " 0.019 AGE\n"
          ],
          "name": "stdout"
        }
      ]
    },
    {
      "cell_type": "markdown",
      "metadata": {
        "id": "_rHWpSCc-u4B"
      },
      "source": [
        "# Usando o R Squared"
      ]
    },
    {
      "cell_type": "code",
      "metadata": {
        "id": "sYu8t8nO-oGM"
      },
      "source": [
        "modelo_r_s = linear_model.LinearRegression(normalize=False, fit_intercept= True)"
      ],
      "execution_count": null,
      "outputs": []
    },
    {
      "cell_type": "code",
      "metadata": {
        "id": "TBVtrDOf_A0w"
      },
      "source": [
        "# Calculando o R²\n",
        "def r2_est(X,y):\n",
        "    return r2_score(y, modelo_r_s.fit(X,y).predict(X))"
      ],
      "execution_count": null,
      "outputs": []
    },
    {
      "cell_type": "code",
      "metadata": {
        "colab": {
          "base_uri": "https://localhost:8080/"
        },
        "id": "OInRL9_R_cdB",
        "outputId": "143aa5d3-7bb4-4a98-cb1f-94f0867cd9f9"
      },
      "source": [
        "print('Coeficiente R²: %0.3f' % r2_est(X, y))"
      ],
      "execution_count": null,
      "outputs": [
        {
          "output_type": "stream",
          "text": [
            "Coeficiente R²: 0.741\n"
          ],
          "name": "stdout"
        }
      ]
    },
    {
      "cell_type": "code",
      "metadata": {
        "colab": {
          "base_uri": "https://localhost:8080/"
        },
        "id": "z2m1x2jh_sWa",
        "outputId": "1a202c7d-1684-4612-b837-ca05232ab6dd"
      },
      "source": [
        "# Gera o impacto de cada atributo no R2\n",
        "r2_impact = list()\n",
        "for j in range(X.shape[1]):\n",
        "    selection = [i for i in range(X.shape[1]) if i!=j]\n",
        "    r2_impact.append(((r2_est(X,y) - r2_est(X.values[:,selection],y)), df.columns[j]))\n",
        "   \n",
        "for imp, varname in sorted(r2_impact, reverse = True):\n",
        "    print ('%6.3f %s' %  (imp, varname))"
      ],
      "execution_count": null,
      "outputs": [
        {
          "output_type": "stream",
          "text": [
            " 0.056 LSTAT\n",
            " 0.044 RM\n",
            " 0.029 DIS\n",
            " 0.028 PTRATIO\n",
            " 0.011 NOX\n",
            " 0.011 RAD\n",
            " 0.006 B\n",
            " 0.006 ZN\n",
            " 0.006 CRIM\n",
            " 0.006 TAX\n",
            " 0.005 CHAS\n",
            " 0.000 INDUS\n",
            " 0.000 AGE\n"
          ],
          "name": "stdout"
        }
      ]
    },
    {
      "cell_type": "markdown",
      "metadata": {
        "id": "kCNksUEyAPOz"
      },
      "source": [
        "# Fazendo Previsões com o modelo de Regressao Linear Múltipla"
      ]
    },
    {
      "cell_type": "code",
      "metadata": {
        "id": "gJs2oqqSAFsx"
      },
      "source": [
        "# Imports\n",
        "from sklearn.model_selection import train_test_split\n",
        "from sklearn.linear_model import LinearRegression\n",
        "from sklearn.metrics import r2_score"
      ],
      "execution_count": null,
      "outputs": []
    },
    {
      "cell_type": "code",
      "metadata": {
        "colab": {
          "base_uri": "https://localhost:8080/"
        },
        "id": "dBJUuGjzBIAy",
        "outputId": "836b77a8-2d10-4f54-fc9c-dc9fd738f0c0"
      },
      "source": [
        "# Formato do Dataset\n",
        "print(\"Boston Housing dataset tem {} observações com {} variaveis cada uma. \".format(*df.shape))"
      ],
      "execution_count": null,
      "outputs": [
        {
          "output_type": "stream",
          "text": [
            "Boston Housing dataset tem 506 observações com 14 variaveis cada uma. \n"
          ],
          "name": "stdout"
        }
      ]
    },
    {
      "cell_type": "code",
      "metadata": {
        "id": "OBC-M07CBgvE"
      },
      "source": [
        "# Coletando x e y\n",
        "# Usaremos como variáveis explanatórias somente as 4 variáveis mais relevantes\n",
        "X = df[['LSTAT', 'RM', 'DIS', 'PTRATIO']]\n",
        "y = df['target'].values"
      ],
      "execution_count": null,
      "outputs": []
    },
    {
      "cell_type": "code",
      "metadata": {
        "colab": {
          "base_uri": "https://localhost:8080/",
          "height": 204
        },
        "id": "sj7sey5fB9D8",
        "outputId": "a9e54568-124b-4471-bb14-d48c3bbcd183"
      },
      "source": [
        "X.head()"
      ],
      "execution_count": null,
      "outputs": [
        {
          "output_type": "execute_result",
          "data": {
            "text/html": [
              "<div>\n",
              "<style scoped>\n",
              "    .dataframe tbody tr th:only-of-type {\n",
              "        vertical-align: middle;\n",
              "    }\n",
              "\n",
              "    .dataframe tbody tr th {\n",
              "        vertical-align: top;\n",
              "    }\n",
              "\n",
              "    .dataframe thead th {\n",
              "        text-align: right;\n",
              "    }\n",
              "</style>\n",
              "<table border=\"1\" class=\"dataframe\">\n",
              "  <thead>\n",
              "    <tr style=\"text-align: right;\">\n",
              "      <th></th>\n",
              "      <th>LSTAT</th>\n",
              "      <th>RM</th>\n",
              "      <th>DIS</th>\n",
              "      <th>PTRATIO</th>\n",
              "    </tr>\n",
              "  </thead>\n",
              "  <tbody>\n",
              "    <tr>\n",
              "      <th>0</th>\n",
              "      <td>4.98</td>\n",
              "      <td>6.575</td>\n",
              "      <td>4.0900</td>\n",
              "      <td>15.3</td>\n",
              "    </tr>\n",
              "    <tr>\n",
              "      <th>1</th>\n",
              "      <td>9.14</td>\n",
              "      <td>6.421</td>\n",
              "      <td>4.9671</td>\n",
              "      <td>17.8</td>\n",
              "    </tr>\n",
              "    <tr>\n",
              "      <th>2</th>\n",
              "      <td>4.03</td>\n",
              "      <td>7.185</td>\n",
              "      <td>4.9671</td>\n",
              "      <td>17.8</td>\n",
              "    </tr>\n",
              "    <tr>\n",
              "      <th>3</th>\n",
              "      <td>2.94</td>\n",
              "      <td>6.998</td>\n",
              "      <td>6.0622</td>\n",
              "      <td>18.7</td>\n",
              "    </tr>\n",
              "    <tr>\n",
              "      <th>4</th>\n",
              "      <td>5.33</td>\n",
              "      <td>7.147</td>\n",
              "      <td>6.0622</td>\n",
              "      <td>18.7</td>\n",
              "    </tr>\n",
              "  </tbody>\n",
              "</table>\n",
              "</div>"
            ],
            "text/plain": [
              "   LSTAT     RM     DIS  PTRATIO\n",
              "0   4.98  6.575  4.0900     15.3\n",
              "1   9.14  6.421  4.9671     17.8\n",
              "2   4.03  7.185  4.9671     17.8\n",
              "3   2.94  6.998  6.0622     18.7\n",
              "4   5.33  7.147  6.0622     18.7"
            ]
          },
          "metadata": {
            "tags": []
          },
          "execution_count": 35
        }
      ]
    },
    {
      "cell_type": "code",
      "metadata": {
        "id": "KHuruSBvCAi0"
      },
      "source": [
        "# Divisão em dados de treino e de teste\n",
        "X_train, X_test, y_train, y_test = train_test_split(X, y, test_size=0.2, random_state = 42)\n"
      ],
      "execution_count": null,
      "outputs": []
    },
    {
      "cell_type": "code",
      "metadata": {
        "id": "nlmkWgbvCVBE"
      },
      "source": [
        "modelo_r_s1 = LinearRegression(normalize= False, fit_intercept= True)"
      ],
      "execution_count": null,
      "outputs": []
    },
    {
      "cell_type": "code",
      "metadata": {
        "id": "SNieHZIyChN6"
      },
      "source": [
        "# Treinando o modelo\n",
        "modelo_v2m = modelo_r_s1.fit(X_train, y_train)"
      ],
      "execution_count": null,
      "outputs": []
    },
    {
      "cell_type": "code",
      "metadata": {
        "colab": {
          "base_uri": "https://localhost:8080/"
        },
        "id": "TQabAAOCC0I8",
        "outputId": "a9028bc9-deff-49ce-cc3c-915c69c19cb4"
      },
      "source": [
        "# Calcula a métrica R² do nosso modelo\n",
        "r2_score(y_test, modelo_v2m.fit(X_train, y_train).predict(X_test))\n"
      ],
      "execution_count": null,
      "outputs": [
        {
          "output_type": "execute_result",
          "data": {
            "text/plain": [
              "0.6347923449246606"
            ]
          },
          "metadata": {
            "tags": []
          },
          "execution_count": 42
        }
      ]
    },
    {
      "cell_type": "code",
      "metadata": {
        "colab": {
          "base_uri": "https://localhost:8080/"
        },
        "id": "TKh0VaTcDI8V",
        "outputId": "0c284d21-b33e-4e4e-d60a-49d326f0a414"
      },
      "source": [
        "# Produz a matriz com os novos dados de entrada para a previsão\n",
        "LSTAT = 5\n",
        "RM = 8\n",
        "DIS = 6\n",
        "PTRATIO = 19\n",
        "\n",
        "# Lista com os valores das variáveis\n",
        "dados_nova_casa = [LSTAT, RM, DIS, PTRATIO]\n",
        "\n",
        "# Reshape\n",
        "Xp = np.array(dados_nova_casa).reshape(1, -1)\n",
        "\n",
        "# Previsão\n",
        "print(\"Taxa Média de Ocupação Para a Casa é de:\", modelo_v2m.predict(Xp))"
      ],
      "execution_count": null,
      "outputs": [
        {
          "output_type": "stream",
          "text": [
            "Taxa Média de Ocupação Para a Casa é de: [33.65282404]\n"
          ],
          "name": "stdout"
        }
      ]
    },
    {
      "cell_type": "code",
      "metadata": {
        "id": "F40f13RSDv_d"
      },
      "source": [
        ""
      ],
      "execution_count": null,
      "outputs": []
    }
  ]
}